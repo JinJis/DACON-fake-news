{
 "cells": [
  {
   "cell_type": "code",
   "execution_count": 1,
   "metadata": {},
   "outputs": [],
   "source": [
    "import numpy as np \n",
    "import pandas as pd \n",
    "import re \n",
    "import matplotlib.pyplot as plt \n",
    "import seaborn as sns\n"
   ]
  },
  {
   "cell_type": "code",
   "execution_count": 2,
   "metadata": {},
   "outputs": [],
   "source": [
    "import pandas as pd \n",
    "import numpy as np\n",
    "train = pd.read_csv('news_train.csv') \n",
    "test = pd.read_csv('news_test.csv')\n",
    "submission = pd.read_csv('sample_submission.csv')"
   ]
  },
  {
   "cell_type": "code",
   "execution_count": 3,
   "metadata": {},
   "outputs": [],
   "source": [
    "import glob\n",
    "import pandas as pd\n",
    "from tensorflow import keras\n",
    "import numpy as np\n",
    "import os \n",
    "from sklearn.model_selection import StratifiedKFold\n",
    "import matplotlib.pylab as plt\n",
    "from tqdm import tqdm\n",
    "import tensorflow as tf\n",
    "from tensorflow.keras.layers import TimeDistributed, Conv2D, Conv2DTranspose, MaxPooling2D, AveragePooling2D, BatchNormalization, concatenate, Input, ConvLSTM2D, Reshape, Conv3D, Flatten, LSTM, GRU, Dense,Dropout, Add\n",
    "from tensorflow.keras.layers import Embedding, GlobalAveragePooling1D, Bidirectional, Conv1D, MaxPooling1D, GlobalMaxPooling1D, GlobalMaxPool1D\n",
    "from tensorflow.keras.models import Model, load_model\n",
    "from tensorflow.keras.callbacks import ModelCheckpoint, EarlyStopping, ReduceLROnPlateau, LearningRateScheduler\n",
    "from tensorflow.keras.models import Sequential, load_model\n",
    "from sklearn.utils import shuffle\n",
    "from tensorflow.keras.preprocessing.sequence import pad_sequences \n",
    "from tensorflow.keras.preprocessing.text import Tokenizer \n",
    "from tensorflow.keras import regularizers\n",
    "from tensorflow.keras.optimizers import Adam\n",
    "import re \n",
    "\n",
    "import nltk # for stopwords \n",
    "from nltk.corpus import stopwords\n",
    "import gensim # for Word2Vec embeddings \n",
    "from sentencepiece import SentencePieceTrainer,SentencePieceProcessor\n",
    "from sklearn.feature_extraction.text import CountVectorizer"
   ]
  },
  {
   "cell_type": "code",
   "execution_count": 4,
   "metadata": {},
   "outputs": [
    {
     "data": {
      "text/html": [
       "<div>\n",
       "<style scoped>\n",
       "    .dataframe tbody tr th:only-of-type {\n",
       "        vertical-align: middle;\n",
       "    }\n",
       "\n",
       "    .dataframe tbody tr th {\n",
       "        vertical-align: top;\n",
       "    }\n",
       "\n",
       "    .dataframe thead th {\n",
       "        text-align: right;\n",
       "    }\n",
       "</style>\n",
       "<table border=\"1\" class=\"dataframe\">\n",
       "  <thead>\n",
       "    <tr style=\"text-align: right;\">\n",
       "      <th></th>\n",
       "      <th>n_id</th>\n",
       "      <th>date</th>\n",
       "      <th>title</th>\n",
       "      <th>content</th>\n",
       "      <th>ord</th>\n",
       "      <th>info</th>\n",
       "    </tr>\n",
       "  </thead>\n",
       "  <tbody>\n",
       "    <tr>\n",
       "      <th>0</th>\n",
       "      <td>NEWS02580</td>\n",
       "      <td>20200605</td>\n",
       "      <td>[마감]코스닥 기관 678억 순매도</td>\n",
       "      <td>[이데일리 MARKETPOINT]15:32 현재 코스닥 기관 678억 순매도</td>\n",
       "      <td>1</td>\n",
       "      <td>0</td>\n",
       "    </tr>\n",
       "    <tr>\n",
       "      <th>1</th>\n",
       "      <td>NEWS02580</td>\n",
       "      <td>20200605</td>\n",
       "      <td>[마감]코스닥 기관 678억 순매도</td>\n",
       "      <td>\"실적기반\" 저가에 매집해야 할 8월 급등유망주 TOP 5 전격공개</td>\n",
       "      <td>2</td>\n",
       "      <td>1</td>\n",
       "    </tr>\n",
       "    <tr>\n",
       "      <th>2</th>\n",
       "      <td>NEWS02580</td>\n",
       "      <td>20200605</td>\n",
       "      <td>[마감]코스닥 기관 678억 순매도</td>\n",
       "      <td>하이스탁론, 선취수수료 없는 월 0.4% 최저금리 상품 출시</td>\n",
       "      <td>3</td>\n",
       "      <td>1</td>\n",
       "    </tr>\n",
       "    <tr>\n",
       "      <th>3</th>\n",
       "      <td>NEWS02580</td>\n",
       "      <td>20200605</td>\n",
       "      <td>[마감]코스닥 기관 678억 순매도</td>\n",
       "      <td>종합 경제정보 미디어 이데일리 - 무단전재 &amp; 재배포 금지</td>\n",
       "      <td>4</td>\n",
       "      <td>0</td>\n",
       "    </tr>\n",
       "    <tr>\n",
       "      <th>4</th>\n",
       "      <td>NEWS09727</td>\n",
       "      <td>20200626</td>\n",
       "      <td>롯데·공영 등 7개 TV 홈쇼핑들, 동행세일 동참</td>\n",
       "      <td>전국적인 소비 붐 조성에 기여할 예정</td>\n",
       "      <td>1</td>\n",
       "      <td>0</td>\n",
       "    </tr>\n",
       "    <tr>\n",
       "      <th>5</th>\n",
       "      <td>NEWS09727</td>\n",
       "      <td>20200626</td>\n",
       "      <td>롯데·공영 등 7개 TV 홈쇼핑들, 동행세일 동참</td>\n",
       "      <td>[이데일리 권오석 기자] 중소벤처기업부(이하 중기부)는 대한민국 동행세일에 7개 T...</td>\n",
       "      <td>2</td>\n",
       "      <td>0</td>\n",
       "    </tr>\n",
       "    <tr>\n",
       "      <th>6</th>\n",
       "      <td>NEWS09727</td>\n",
       "      <td>20200626</td>\n",
       "      <td>롯데·공영 등 7개 TV 홈쇼핑들, 동행세일 동참</td>\n",
       "      <td>대한민국 동행세일은 라이브 커머스, 언택트 콘서트, O2O 행사 연계 등 비대면이라...</td>\n",
       "      <td>3</td>\n",
       "      <td>0</td>\n",
       "    </tr>\n",
       "    <tr>\n",
       "      <th>7</th>\n",
       "      <td>NEWS09727</td>\n",
       "      <td>20200626</td>\n",
       "      <td>롯데·공영 등 7개 TV 홈쇼핑들, 동행세일 동참</td>\n",
       "      <td>6개 권역에서의 현장행사와 온·오프라인 판촉, TV홈쇼핑 등 연계행사를 통해 소비심...</td>\n",
       "      <td>4</td>\n",
       "      <td>0</td>\n",
       "    </tr>\n",
       "    <tr>\n",
       "      <th>8</th>\n",
       "      <td>NEWS09727</td>\n",
       "      <td>20200626</td>\n",
       "      <td>롯데·공영 등 7개 TV 홈쇼핑들, 동행세일 동참</td>\n",
       "      <td>이번 동행세일에서는 롯데·공영·CJ·현대·GS·NS·홈앤쇼핑 등 7개 TV 홈쇼핑사...</td>\n",
       "      <td>5</td>\n",
       "      <td>0</td>\n",
       "    </tr>\n",
       "    <tr>\n",
       "      <th>9</th>\n",
       "      <td>NEWS09727</td>\n",
       "      <td>20200626</td>\n",
       "      <td>롯데·공영 등 7개 TV 홈쇼핑들, 동행세일 동참</td>\n",
       "      <td>동행세일 기간 중 홈쇼핑사에서는 판매방송 사이에 영상을 노출하는 방식(SB, sta...</td>\n",
       "      <td>6</td>\n",
       "      <td>0</td>\n",
       "    </tr>\n",
       "    <tr>\n",
       "      <th>10</th>\n",
       "      <td>NEWS09727</td>\n",
       "      <td>20200626</td>\n",
       "      <td>롯데·공영 등 7개 TV 홈쇼핑들, 동행세일 동참</td>\n",
       "      <td>첫 방송으로 6월 26일부터 공영홈쇼핑은 마스크, 식기세트 등 생활용품과 신선식품 ...</td>\n",
       "      <td>7</td>\n",
       "      <td>0</td>\n",
       "    </tr>\n",
       "    <tr>\n",
       "      <th>11</th>\n",
       "      <td>NEWS09727</td>\n",
       "      <td>20200626</td>\n",
       "      <td>롯데·공영 등 7개 TV 홈쇼핑들, 동행세일 동참</td>\n",
       "      <td>특히 롯데홈쇼핑은 6월 26일 부산 벡스코에서 현장 이원 생방송을 통해 동행세일 현...</td>\n",
       "      <td>8</td>\n",
       "      <td>0</td>\n",
       "    </tr>\n",
       "    <tr>\n",
       "      <th>12</th>\n",
       "      <td>NEWS09727</td>\n",
       "      <td>20200626</td>\n",
       "      <td>롯데·공영 등 7개 TV 홈쇼핑들, 동행세일 동참</td>\n",
       "      <td>박영선 중기부 장관이 쇼호스트로 깜짝 등장해 동행세일을 마련한 취지와 대한민국 중소...</td>\n",
       "      <td>9</td>\n",
       "      <td>0</td>\n",
       "    </tr>\n",
       "    <tr>\n",
       "      <th>13</th>\n",
       "      <td>NEWS09727</td>\n",
       "      <td>20200626</td>\n",
       "      <td>롯데·공영 등 7개 TV 홈쇼핑들, 동행세일 동참</td>\n",
       "      <td>현장 이원 생방송의 다음 주자로는, 공영홈쇼핑이 7월 10일부터 12일까지 서울 코...</td>\n",
       "      <td>10</td>\n",
       "      <td>0</td>\n",
       "    </tr>\n",
       "    <tr>\n",
       "      <th>14</th>\n",
       "      <td>NEWS09727</td>\n",
       "      <td>20200626</td>\n",
       "      <td>롯데·공영 등 7개 TV 홈쇼핑들, 동행세일 동참</td>\n",
       "      <td>박영선 장관은 이번 동행세일 행사에 TV홈쇼핑사의 동참을 통해 내수 활성화에 한발짝...</td>\n",
       "      <td>11</td>\n",
       "      <td>0</td>\n",
       "    </tr>\n",
       "    <tr>\n",
       "      <th>15</th>\n",
       "      <td>NEWS09727</td>\n",
       "      <td>20200626</td>\n",
       "      <td>롯데·공영 등 7개 TV 홈쇼핑들, 동행세일 동참</td>\n",
       "      <td>한편 앞서 중기부에 따르면 지난 25일 글로벌 쇼트 비디오 앱 틱톡(Tiktok)의...</td>\n",
       "      <td>12</td>\n",
       "      <td>0</td>\n",
       "    </tr>\n",
       "    <tr>\n",
       "      <th>16</th>\n",
       "      <td>NEWS09727</td>\n",
       "      <td>20200626</td>\n",
       "      <td>롯데·공영 등 7개 TV 홈쇼핑들, 동행세일 동참</td>\n",
       "      <td>\"실적기반\" 저가에 매집해야 할 8월 급등유망주 TOP 5 전격공개</td>\n",
       "      <td>13</td>\n",
       "      <td>1</td>\n",
       "    </tr>\n",
       "    <tr>\n",
       "      <th>17</th>\n",
       "      <td>NEWS09727</td>\n",
       "      <td>20200626</td>\n",
       "      <td>롯데·공영 등 7개 TV 홈쇼핑들, 동행세일 동참</td>\n",
       "      <td>하이스탁론, 선취수수료 없는 월 0.4% 최저금리 상품 출시</td>\n",
       "      <td>14</td>\n",
       "      <td>1</td>\n",
       "    </tr>\n",
       "    <tr>\n",
       "      <th>18</th>\n",
       "      <td>NEWS09727</td>\n",
       "      <td>20200626</td>\n",
       "      <td>롯데·공영 등 7개 TV 홈쇼핑들, 동행세일 동참</td>\n",
       "      <td>종합 경제정보 미디어 이데일리 - 무단전재 &amp; 재배포 금지</td>\n",
       "      <td>15</td>\n",
       "      <td>0</td>\n",
       "    </tr>\n",
       "    <tr>\n",
       "      <th>19</th>\n",
       "      <td>NEWS07691</td>\n",
       "      <td>20200518</td>\n",
       "      <td>13년만에 늦깎이 개발 '양주 회천' 봄볕 드나</td>\n",
       "      <td>GTX-C노선 내년 착공 확정- 지구 내 1호선 회정역 2023년 신설- 옥정 비해...</td>\n",
       "      <td>1</td>\n",
       "      <td>0</td>\n",
       "    </tr>\n",
       "  </tbody>\n",
       "</table>\n",
       "</div>"
      ],
      "text/plain": [
       "         n_id      date                        title  \\\n",
       "0   NEWS02580  20200605          [마감]코스닥 기관 678억 순매도   \n",
       "1   NEWS02580  20200605          [마감]코스닥 기관 678억 순매도   \n",
       "2   NEWS02580  20200605          [마감]코스닥 기관 678억 순매도   \n",
       "3   NEWS02580  20200605          [마감]코스닥 기관 678억 순매도   \n",
       "4   NEWS09727  20200626  롯데·공영 등 7개 TV 홈쇼핑들, 동행세일 동참   \n",
       "5   NEWS09727  20200626  롯데·공영 등 7개 TV 홈쇼핑들, 동행세일 동참   \n",
       "6   NEWS09727  20200626  롯데·공영 등 7개 TV 홈쇼핑들, 동행세일 동참   \n",
       "7   NEWS09727  20200626  롯데·공영 등 7개 TV 홈쇼핑들, 동행세일 동참   \n",
       "8   NEWS09727  20200626  롯데·공영 등 7개 TV 홈쇼핑들, 동행세일 동참   \n",
       "9   NEWS09727  20200626  롯데·공영 등 7개 TV 홈쇼핑들, 동행세일 동참   \n",
       "10  NEWS09727  20200626  롯데·공영 등 7개 TV 홈쇼핑들, 동행세일 동참   \n",
       "11  NEWS09727  20200626  롯데·공영 등 7개 TV 홈쇼핑들, 동행세일 동참   \n",
       "12  NEWS09727  20200626  롯데·공영 등 7개 TV 홈쇼핑들, 동행세일 동참   \n",
       "13  NEWS09727  20200626  롯데·공영 등 7개 TV 홈쇼핑들, 동행세일 동참   \n",
       "14  NEWS09727  20200626  롯데·공영 등 7개 TV 홈쇼핑들, 동행세일 동참   \n",
       "15  NEWS09727  20200626  롯데·공영 등 7개 TV 홈쇼핑들, 동행세일 동참   \n",
       "16  NEWS09727  20200626  롯데·공영 등 7개 TV 홈쇼핑들, 동행세일 동참   \n",
       "17  NEWS09727  20200626  롯데·공영 등 7개 TV 홈쇼핑들, 동행세일 동참   \n",
       "18  NEWS09727  20200626  롯데·공영 등 7개 TV 홈쇼핑들, 동행세일 동참   \n",
       "19  NEWS07691  20200518   13년만에 늦깎이 개발 '양주 회천' 봄볕 드나   \n",
       "\n",
       "                                              content  ord  info  \n",
       "0          [이데일리 MARKETPOINT]15:32 현재 코스닥 기관 678억 순매도    1     0  \n",
       "1               \"실적기반\" 저가에 매집해야 할 8월 급등유망주 TOP 5 전격공개    2     1  \n",
       "2                   하이스탁론, 선취수수료 없는 월 0.4% 최저금리 상품 출시    3     1  \n",
       "3                    종합 경제정보 미디어 이데일리 - 무단전재 & 재배포 금지    4     0  \n",
       "4                                전국적인 소비 붐 조성에 기여할 예정    1     0  \n",
       "5   [이데일리 권오석 기자] 중소벤처기업부(이하 중기부)는 대한민국 동행세일에 7개 T...    2     0  \n",
       "6   대한민국 동행세일은 라이브 커머스, 언택트 콘서트, O2O 행사 연계 등 비대면이라...    3     0  \n",
       "7   6개 권역에서의 현장행사와 온·오프라인 판촉, TV홈쇼핑 등 연계행사를 통해 소비심...    4     0  \n",
       "8   이번 동행세일에서는 롯데·공영·CJ·현대·GS·NS·홈앤쇼핑 등 7개 TV 홈쇼핑사...    5     0  \n",
       "9   동행세일 기간 중 홈쇼핑사에서는 판매방송 사이에 영상을 노출하는 방식(SB, sta...    6     0  \n",
       "10  첫 방송으로 6월 26일부터 공영홈쇼핑은 마스크, 식기세트 등 생활용품과 신선식품 ...    7     0  \n",
       "11  특히 롯데홈쇼핑은 6월 26일 부산 벡스코에서 현장 이원 생방송을 통해 동행세일 현...    8     0  \n",
       "12  박영선 중기부 장관이 쇼호스트로 깜짝 등장해 동행세일을 마련한 취지와 대한민국 중소...    9     0  \n",
       "13  현장 이원 생방송의 다음 주자로는, 공영홈쇼핑이 7월 10일부터 12일까지 서울 코...   10     0  \n",
       "14  박영선 장관은 이번 동행세일 행사에 TV홈쇼핑사의 동참을 통해 내수 활성화에 한발짝...   11     0  \n",
       "15  한편 앞서 중기부에 따르면 지난 25일 글로벌 쇼트 비디오 앱 틱톡(Tiktok)의...   12     0  \n",
       "16              \"실적기반\" 저가에 매집해야 할 8월 급등유망주 TOP 5 전격공개   13     1  \n",
       "17                  하이스탁론, 선취수수료 없는 월 0.4% 최저금리 상품 출시   14     1  \n",
       "18                   종합 경제정보 미디어 이데일리 - 무단전재 & 재배포 금지   15     0  \n",
       "19  GTX-C노선 내년 착공 확정- 지구 내 1호선 회정역 2023년 신설- 옥정 비해...    1     0  "
      ]
     },
     "execution_count": 4,
     "metadata": {},
     "output_type": "execute_result"
    }
   ],
   "source": [
    "train.head(20)"
   ]
  },
  {
   "cell_type": "code",
   "execution_count": 5,
   "metadata": {},
   "outputs": [],
   "source": [
    "from konlpy.tag import Mecab \n",
    "mecab_tokenizer = Mecab() \n",
    "sample_content = train['content'][0]  \n",
    "sample_title = train['title'][0]"
   ]
  },
  {
   "cell_type": "code",
   "execution_count": 6,
   "metadata": {},
   "outputs": [],
   "source": [
    "x = mecab_tokenizer.morphs(sample_title)"
   ]
  },
  {
   "cell_type": "code",
   "execution_count": 7,
   "metadata": {},
   "outputs": [
    {
     "data": {
      "text/plain": [
       "['[', '마감', ']', '코스닥', '기관', '678', '억', '순매도']"
      ]
     },
     "execution_count": 7,
     "metadata": {},
     "output_type": "execute_result"
    }
   ],
   "source": [
    "x"
   ]
  },
  {
   "cell_type": "code",
   "execution_count": 8,
   "metadata": {},
   "outputs": [
    {
     "data": {
      "text/plain": [
       "['[',\n",
       " '이',\n",
       " '데일리',\n",
       " 'MARKETPOINT',\n",
       " ']',\n",
       " '15',\n",
       " ':',\n",
       " '32',\n",
       " '현재',\n",
       " '코스닥',\n",
       " '기관',\n",
       " '678',\n",
       " '억',\n",
       " '순매도']"
      ]
     },
     "execution_count": 8,
     "metadata": {},
     "output_type": "execute_result"
    }
   ],
   "source": [
    "mecab_tokenizer.morphs(sample_content)"
   ]
  },
  {
   "cell_type": "code",
   "execution_count": 9,
   "metadata": {},
   "outputs": [],
   "source": [
    "from tensorflow.keras.preprocessing.sequence import pad_sequences \n",
    "from tensorflow.keras.preprocessing.text import Tokenizer \n"
   ]
  },
  {
   "cell_type": "code",
   "execution_count": 10,
   "metadata": {},
   "outputs": [],
   "source": [
    "x_train = train['title']"
   ]
  },
  {
   "cell_type": "code",
   "execution_count": 11,
   "metadata": {},
   "outputs": [],
   "source": [
    "arr = [] \n",
    "for i in range(x_train.shape[0]):  \n",
    "    arr.append(len(x_train[i]))"
   ]
  },
  {
   "cell_type": "code",
   "execution_count": 12,
   "metadata": {},
   "outputs": [
    {
     "data": {
      "text/plain": [
       "93"
      ]
     },
     "execution_count": 12,
     "metadata": {},
     "output_type": "execute_result"
    }
   ],
   "source": [
    "np.max(arr)"
   ]
  },
  {
   "cell_type": "code",
   "execution_count": 13,
   "metadata": {},
   "outputs": [],
   "source": [
    "x_mecab = [] \n",
    "for i in range(500):  \n",
    "    x_mecab.append(mecab_tokenizer.morphs(x_train[i])) "
   ]
  },
  {
   "cell_type": "code",
   "execution_count": 14,
   "metadata": {},
   "outputs": [
    {
     "data": {
      "text/plain": [
       "(500,)"
      ]
     },
     "execution_count": 14,
     "metadata": {},
     "output_type": "execute_result"
    }
   ],
   "source": [
    "x_mecab = np.asarray(x_mecab)\n",
    "x_mecab.shape"
   ]
  },
  {
   "cell_type": "code",
   "execution_count": 15,
   "metadata": {},
   "outputs": [],
   "source": [
    "tokenizer = Tokenizer() \n",
    "tokenizer.fit_on_texts(x_mecab)"
   ]
  },
  {
   "cell_type": "code",
   "execution_count": 16,
   "metadata": {},
   "outputs": [],
   "source": [
    "word_idx = tokenizer.word_index"
   ]
  },
  {
   "cell_type": "code",
   "execution_count": 17,
   "metadata": {},
   "outputs": [
    {
     "data": {
      "text/plain": [
       "{',': 1,\n",
       " '에': 2,\n",
       " '…': 3,\n",
       " '\"': 4,\n",
       " '만': 5,\n",
       " \"'\": 6,\n",
       " '[': 7,\n",
       " ']': 8,\n",
       " '도': 9,\n",
       " '!': 10,\n",
       " '한': 11,\n",
       " '.': 12,\n",
       " '코로나': 13,\n",
       " '`': 14,\n",
       " '%': 15,\n",
       " '년': 16,\n",
       " '‘': 17,\n",
       " '7': 18,\n",
       " '중': 19,\n",
       " '대': 20,\n",
       " '개발': 21,\n",
       " '다': 22,\n",
       " '자': 23,\n",
       " '2': 24,\n",
       " '고': 25,\n",
       " '3': 26,\n",
       " '반도체': 27,\n",
       " '·': 28,\n",
       " '’': 29,\n",
       " '세요': 30,\n",
       " '가': 31,\n",
       " '마법': 32,\n",
       " '공식': 33,\n",
       " '월': 34,\n",
       " '덱스': 35,\n",
       " '1': 36,\n",
       " 'q': 37,\n",
       " '산뜻': 38,\n",
       " '출발': 39,\n",
       " '생산': 40,\n",
       " '능력': 41,\n",
       " '확대': 42,\n",
       " '마감': 43,\n",
       " '12': 44,\n",
       " '상승': 45,\n",
       " '소비': 46,\n",
       " '들': 47,\n",
       " '上': 48,\n",
       " '롯데': 49,\n",
       " '하': 50,\n",
       " '규제': 51,\n",
       " '폭탄': 52,\n",
       " '집값': 53,\n",
       " '들썩이': 54,\n",
       " '당정': 55,\n",
       " '똘똘한': 56,\n",
       " '채': 57,\n",
       " '과세': 58,\n",
       " '만지작': 59,\n",
       " '는': 60,\n",
       " '코스피': 61,\n",
       " '하루': 62,\n",
       " '1500': 63,\n",
       " '회복': 64,\n",
       " '억': 65,\n",
       " '의': 66,\n",
       " 'm': 67,\n",
       " '株': 68,\n",
       " '원': 69,\n",
       " '6': 70,\n",
       " '장비': 71,\n",
       " '19': 72,\n",
       " '로': 73,\n",
       " '명': 74,\n",
       " '할': 75,\n",
       " '동참': 76,\n",
       " '기업': 77,\n",
       " '13': 78,\n",
       " '늦깎이': 79,\n",
       " '양주': 80,\n",
       " '회천': 81,\n",
       " '봄볕': 82,\n",
       " '드': 83,\n",
       " '나': 84,\n",
       " '수': 85,\n",
       " '있': 86,\n",
       " '받': 87,\n",
       " '사': 88,\n",
       " '업종': 89,\n",
       " '주': 90,\n",
       " '수익': 91,\n",
       " '“': 92,\n",
       " '”': 93,\n",
       " '백화점': 94,\n",
       " '역설': 95,\n",
       " '전남': 96,\n",
       " '도민': 97,\n",
       " '은': 98,\n",
       " '늘렸': 99,\n",
       " '온라인': 100,\n",
       " '종목': 101,\n",
       " '투자': 102,\n",
       " '견련': 103,\n",
       " '21': 104,\n",
       " '국회': 105,\n",
       " '중견': 106,\n",
       " '육성': 107,\n",
       " '정책': 108,\n",
       " '개선': 109,\n",
       " '촉구': 110,\n",
       " '배터리': 111,\n",
       " '전쟁': 112,\n",
       " 'lg': 113,\n",
       " 'sk': 114,\n",
       " '국내': 115,\n",
       " '법정': 116,\n",
       " '다툼': 117,\n",
       " '본격': 118,\n",
       " '화': 119,\n",
       " '커': 120,\n",
       " '지': 121,\n",
       " '소송': 122,\n",
       " '리스크': 123,\n",
       " '百': 124,\n",
       " '설': 125,\n",
       " '맞이': 126,\n",
       " '댕댕이': 127,\n",
       " '선물': 128,\n",
       " '들여가': 129,\n",
       " '건설': 130,\n",
       " '수혜': 131,\n",
       " '대상': 132,\n",
       " '과': 133,\n",
       " '(': 134,\n",
       " '한미': 135,\n",
       " '제조': 136,\n",
       " '용': 137,\n",
       " '수주': 138,\n",
       " '계약': 139,\n",
       " '..': 140,\n",
       " '매출': 141,\n",
       " '비': 142,\n",
       " '0': 143,\n",
       " '+': 144,\n",
       " '자원': 145,\n",
       " '백': 146,\n",
       " '내장': 147,\n",
       " '수술': 148,\n",
       " '시각': 149,\n",
       " '장애': 150,\n",
       " '초래': 151,\n",
       " '어': 152,\n",
       " '공영': 153,\n",
       " '등': 154,\n",
       " '개': 155,\n",
       " 'tv': 156,\n",
       " '홈': 157,\n",
       " '쇼핑': 158,\n",
       " '동행': 159,\n",
       " '세일': 160,\n",
       " 'bmw': 161,\n",
       " '코리아': 162,\n",
       " '한정판': 163,\n",
       " '340': 164,\n",
       " 'i': 165,\n",
       " '퍼스트': 166,\n",
       " '에디션': 167,\n",
       " '출시': 168,\n",
       " '를': 169,\n",
       " '원희룡': 170,\n",
       " '제주': 171,\n",
       " '관광객': 172,\n",
       " '책임': 173,\n",
       " '감': 174,\n",
       " '갖': 175,\n",
       " '와라': 176,\n",
       " '돌하르방': 177,\n",
       " '간격': 178,\n",
       " '경기도': 179,\n",
       " '지원금': 180,\n",
       " '여름휴가': 181,\n",
       " '떠나': 182,\n",
       " '매수': 183,\n",
       " '성남': 184,\n",
       " '시립': 185,\n",
       " '박물관': 186,\n",
       " '건립': 187,\n",
       " '청신호': 188,\n",
       " '’…': 189,\n",
       " '문체': 190,\n",
       " '부': 191,\n",
       " '타당': 192,\n",
       " '성': 193,\n",
       " '평가': 194,\n",
       " '통과': 195,\n",
       " '?': 196,\n",
       " '종잣돈': 197,\n",
       " '200': 198,\n",
       " '백신': 199,\n",
       " '착수': 200,\n",
       " '곧': 201,\n",
       " '시장': 202,\n",
       " '노': 203,\n",
       " '출전': 204,\n",
       " '선착순': 205,\n",
       " '5': 206,\n",
       " '퀵': 207,\n",
       " '리포트': 208,\n",
       " 'kt': 209,\n",
       " '보유': 210,\n",
       " '하향': 211,\n",
       " '목표': 212,\n",
       " '7000': 213,\n",
       " '-': 214,\n",
       " '이': 215,\n",
       " '베스트': 216,\n",
       " '證': 217,\n",
       " '카카오': 218,\n",
       " '게임즈': 219,\n",
       " '유망': 220,\n",
       " '게임': 221,\n",
       " '230': 222,\n",
       " '전략': 223,\n",
       " '적': 224,\n",
       " '또': 225,\n",
       " '재료': 226,\n",
       " '터졌': 227,\n",
       " '제': 228,\n",
       " '서울': 229,\n",
       " '제약': 230,\n",
       " '3000': 231,\n",
       " '후': 232,\n",
       " '속주': 233,\n",
       " '내일': 234,\n",
       " '터질': 235,\n",
       " '핫': 236,\n",
       " '테마': 237,\n",
       " '미리': 238,\n",
       " '확인': 239,\n",
       " '치료제': 240,\n",
       " '코미': 241,\n",
       " '팜': 242,\n",
       " '후속': 243,\n",
       " '세계': 244,\n",
       " '최초': 245,\n",
       " '!<': 246,\n",
       " '임상': 247,\n",
       " '상완': 248,\n",
       " '료': 249,\n",
       " '>': 250,\n",
       " '셀': 251,\n",
       " '트리': 252,\n",
       " '온': 253,\n",
       " '300': 254,\n",
       " '배': 255,\n",
       " '↑↑': 256,\n",
       " '능가': 257,\n",
       " '2020': 258,\n",
       " '초대': 259,\n",
       " '형': 260,\n",
       " '바이오': 261,\n",
       " '강세': 262,\n",
       " '상승세': 263,\n",
       " '테크': 264,\n",
       " '윙': 265,\n",
       " '%↑': 266,\n",
       " '농진청': 267,\n",
       " '디지털': 268,\n",
       " '농업': 269,\n",
       " '이끌': 270,\n",
       " '연구': 271,\n",
       " '지도': 272,\n",
       " '직': 273,\n",
       " '공무원': 274,\n",
       " '공채': 275,\n",
       " '롯데호텔': 276,\n",
       " '여파': 277,\n",
       " '전': 278,\n",
       " '직원': 279,\n",
       " '유급': 280,\n",
       " '휴직': 281,\n",
       " '실시': 282,\n",
       " '10': 283,\n",
       " '초면': 284,\n",
       " '정보': 285,\n",
       " '번': 286,\n",
       " '을': 287,\n",
       " '아이': 288,\n",
       " '티센': 289,\n",
       " '그룹': 290,\n",
       " 'it': 291,\n",
       " '솔루션': 292,\n",
       " '총판': 293,\n",
       " '사업': 294,\n",
       " '분할': 295,\n",
       " '씨': 296,\n",
       " '플랫': 297,\n",
       " '폼': 298,\n",
       " '출범': 299,\n",
       " '단체': 300,\n",
       " '총': 301,\n",
       " '연합회': 302,\n",
       " '진흥': 303,\n",
       " '법': 304,\n",
       " '개정안': 305,\n",
       " '철회': 306,\n",
       " '라': 307,\n",
       " '탄원서': 308,\n",
       " '제출': 309,\n",
       " '관련': 310,\n",
       " '이제': 311,\n",
       " '어떤': 312,\n",
       " '해야': 313,\n",
       " '할지': 314,\n",
       " '모르': 315,\n",
       " '겠': 316,\n",
       " '▶': 317,\n",
       " '차': 318,\n",
       " '전지': 319,\n",
       " '향후': 320,\n",
       " '전망': 321,\n",
       " '거래소': 322,\n",
       " '이에스브이': 323,\n",
       " '실질': 324,\n",
       " '심사': 325,\n",
       " '결정': 326,\n",
       " '조사': 327,\n",
       " '기간': 328,\n",
       " '연장': 329,\n",
       " '결제': 330,\n",
       " '사태': 331,\n",
       " '최대': 332,\n",
       " '해외': 333,\n",
       " '유입': 334,\n",
       " '신규': 335,\n",
       " '환자': 336,\n",
       " '16': 337,\n",
       " '미주': 338,\n",
       " '유럽': 339,\n",
       " '코스닥': 340,\n",
       " '기관': 341,\n",
       " '678': 342,\n",
       " '순매도': 343,\n",
       " '환율': 344,\n",
       " '1228': 345,\n",
       " '11': 346,\n",
       " '4': 347,\n",
       " ')': 348,\n",
       " '발표': 349,\n",
       " '임박': 350,\n",
       " '즉시': 351}"
      ]
     },
     "execution_count": 17,
     "metadata": {},
     "output_type": "execute_result"
    }
   ],
   "source": [
    "word_idx"
   ]
  },
  {
   "cell_type": "code",
   "execution_count": 18,
   "metadata": {},
   "outputs": [],
   "source": [
    "train_sequences = tokenizer.texts_to_sequences(x_mecab)"
   ]
  },
  {
   "cell_type": "code",
   "execution_count": 19,
   "metadata": {},
   "outputs": [],
   "source": [
    "train_padded = pad_sequences(train_sequences, maxlen = 50, padding = 'post')"
   ]
  },
  {
   "cell_type": "code",
   "execution_count": 20,
   "metadata": {},
   "outputs": [
    {
     "data": {
      "text/plain": [
       "array([  4, 179,  31,  90,  60, 180,  87,  25, 181, 182,  23,   4,   0,\n",
       "         0,   0,   0,   0,   0,   0,   0,   0,   0,   0,   0,   0,   0,\n",
       "         0,   0,   0,   0,   0,   0,   0,   0,   0,   0,   0,   0,   0,\n",
       "         0,   0,   0,   0,   0,   0,   0,   0,   0,   0,   0], dtype=int32)"
      ]
     },
     "execution_count": 20,
     "metadata": {},
     "output_type": "execute_result"
    }
   ],
   "source": [
    "train_padded[200]"
   ]
  },
  {
   "cell_type": "code",
   "execution_count": 21,
   "metadata": {},
   "outputs": [
    {
     "data": {
      "text/plain": [
       "(500, 50)"
      ]
     },
     "execution_count": 21,
     "metadata": {},
     "output_type": "execute_result"
    }
   ],
   "source": [
    "train_padded.shape"
   ]
  },
  {
   "cell_type": "code",
   "execution_count": 22,
   "metadata": {},
   "outputs": [],
   "source": [
    "train['title_length'] = train['title'].apply(lambda x : len(x)) "
   ]
  },
  {
   "cell_type": "code",
   "execution_count": 23,
   "metadata": {},
   "outputs": [
    {
     "name": "stderr",
     "output_type": "stream",
     "text": [
      "/Library/Frameworks/Python.framework/Versions/3.8/lib/python3.8/site-packages/seaborn/_decorators.py:36: FutureWarning: Pass the following variable as a keyword arg: x. From version 0.12, the only valid positional argument will be `data`, and passing other arguments without an explicit keyword will result in an error or misinterpretation.\n",
      "  warnings.warn(\n"
     ]
    },
    {
     "data": {
      "text/plain": [
       "<AxesSubplot:xlabel='title_length', ylabel='count'>"
      ]
     },
     "execution_count": 23,
     "metadata": {},
     "output_type": "execute_result"
    },
    {
     "data": {
      "image/png": "[encoded data removed]",
      "text/plain": [
       "<Figure size 1440x2160 with 1 Axes>"
      ]
     },
     "metadata": {
      "needs_background": "light"
     },
     "output_type": "display_data"
    }
   ],
   "source": [
    "plt.figure(figsize = (20,30))\n",
    "sns.countplot(train['title_length'], color = 'r') "
   ]
  },
  {
   "cell_type": "code",
   "execution_count": 24,
   "metadata": {},
   "outputs": [],
   "source": [
    "train['content_length'] = train['content'].apply(lambda x : len(x)) "
   ]
  },
  {
   "cell_type": "code",
   "execution_count": 25,
   "metadata": {},
   "outputs": [
    {
     "name": "stderr",
     "output_type": "stream",
     "text": [
      "/Library/Frameworks/Python.framework/Versions/3.8/lib/python3.8/site-packages/seaborn/_decorators.py:36: FutureWarning: Pass the following variable as a keyword arg: x. From version 0.12, the only valid positional argument will be `data`, and passing other arguments without an explicit keyword will result in an error or misinterpretation.\n",
      "  warnings.warn(\n"
     ]
    },
    {
     "data": {
      "text/plain": [
       "<AxesSubplot:xlabel='content_length', ylabel='count'>"
      ]
     },
     "execution_count": 25,
     "metadata": {},
     "output_type": "execute_result"
    },
    {
     "data": {
      "image/png": "[encoded data removed]",
      "text/plain": [
       "<Figure size 1440x1440 with 1 Axes>"
      ]
     },
     "metadata": {
      "needs_background": "light"
     },
     "output_type": "display_data"
    }
   ],
   "source": [
    "plt.figure(figsize = (20,20))\n",
    "sns.countplot(train['content_length'], color = 'blue') "
   ]
  },
  {
   "cell_type": "code",
   "execution_count": 26,
   "metadata": {},
   "outputs": [
    {
     "name": "stdout",
     "output_type": "stream",
     "text": [
      "Model: \"functional_1\"\n",
      "__________________________________________________________________________________________________\n",
      "Layer (type)                    Output Shape         Param #     Connected to                     \n",
      "==================================================================================================\n",
      "input_2 (InputLayer)            [(None, 1000)]       0                                            \n",
      "__________________________________________________________________________________________________\n",
      "embedding_1 (Embedding)         (None, 1000, 100)    2000000     input_2[0][0]                    \n",
      "__________________________________________________________________________________________________\n",
      "bidirectional_1 (Bidirectional) (None, 1000, 256)    234496      embedding_1[0][0]                \n",
      "__________________________________________________________________________________________________\n",
      "global_max_pooling1d (GlobalMax (None, 256)          0           bidirectional_1[0][0]            \n",
      "__________________________________________________________________________________________________\n",
      "input_1 (InputLayer)            [(None, 50)]         0                                            \n",
      "__________________________________________________________________________________________________\n",
      "dropout (Dropout)               (None, 256)          0           global_max_pooling1d[0][0]       \n",
      "__________________________________________________________________________________________________\n",
      "embedding (Embedding)           (None, 50, 10)       200000      input_1[0][0]                    \n",
      "__________________________________________________________________________________________________\n",
      "dense (Dense)                   (None, 50)           12850       dropout[0][0]                    \n",
      "__________________________________________________________________________________________________\n",
      "bidirectional (Bidirectional)   (None, 256)          142336      embedding[0][0]                  \n",
      "__________________________________________________________________________________________________\n",
      "dropout_1 (Dropout)             (None, 50)           0           dense[0][0]                      \n",
      "__________________________________________________________________________________________________\n",
      "concatenate (Concatenate)       (None, 306)          0           bidirectional[0][0]              \n",
      "                                                                 dropout_1[0][0]                  \n",
      "__________________________________________________________________________________________________\n",
      "dense_1 (Dense)                 (None, 1)            307         concatenate[0][0]                \n",
      "==================================================================================================\n",
      "Total params: 2,589,989\n",
      "Trainable params: 2,589,989\n",
      "Non-trainable params: 0\n",
      "__________________________________________________________________________________________________\n",
      "None\n"
     ]
    }
   ],
   "source": [
    "embedding_vector_feature_title = 10\n",
    "embedding_vector_feature_text = 100\n",
    "vo_size = 20000 \n",
    "\n",
    "input_title = Input(shape=(50,))\n",
    "input_text = Input(shape=(1000,))\n",
    "\n",
    "emb_title = Embedding(vo_size,embedding_vector_feature_title)(input_title)\n",
    "lstm_title = Bidirectional(LSTM(128, return_sequences=False))(emb_title)\n",
    "\n",
    "emb_text = Embedding(vo_size,embedding_vector_feature_text)(input_text)\n",
    "lstm_text = Bidirectional(LSTM(128, return_sequences=True))(emb_text)\n",
    "max_pool_text = GlobalMaxPool1D()(lstm_text)\n",
    "dropout_1_text = Dropout(0.1)(max_pool_text)\n",
    "dense_1_text = Dense(50, activation='relu')(dropout_1_text)\n",
    "dropout_2_text = Dropout(0.1)(dense_1_text)\n",
    "\n",
    "out = concatenate([lstm_title,dropout_2_text],axis=-1)\n",
    "output=Dense(1, activation='sigmoid')(out)\n",
    "\n",
    "model = Model(inputs=[input_title, input_text], outputs=output)\n",
    "model.compile(loss='binary_crossentropy', optimizer='adam', metrics=['accuracy'])\n",
    "print(model.summary())\n"
   ]
  },
  {
   "cell_type": "markdown",
   "metadata": {},
   "source": [
    "### Data Preprocessing \n",
    "\n",
    "using the practice code outlined above, I will preprocess texts using Mecab, then tokenize and pad. And then I will save them for training purposes\n",
    "\n",
    "as an initial attempt, we will not clean the data and use the data in its raw form. "
   ]
  },
  {
   "cell_type": "code",
   "execution_count": 27,
   "metadata": {},
   "outputs": [],
   "source": [
    "x_title = train['title'] \n",
    "x_title = np.asarray(x_title)"
   ]
  },
  {
   "cell_type": "code",
   "execution_count": 28,
   "metadata": {},
   "outputs": [],
   "source": [
    "x_content = train['content'] \n",
    "x_content = np.asarray(x_content)"
   ]
  },
  {
   "cell_type": "code",
   "execution_count": 29,
   "metadata": {},
   "outputs": [
    {
     "data": {
      "text/plain": [
       "((118745,), (118745,))"
      ]
     },
     "execution_count": 29,
     "metadata": {},
     "output_type": "execute_result"
    }
   ],
   "source": [
    "x_title.shape, x_content.shape"
   ]
  },
  {
   "cell_type": "code",
   "execution_count": 30,
   "metadata": {},
   "outputs": [],
   "source": [
    "mecab_tokenizer = Mecab() "
   ]
  },
  {
   "cell_type": "code",
   "execution_count": 31,
   "metadata": {},
   "outputs": [],
   "source": [
    "x_title_morphed = [] \n",
    "for i in range(x_title.shape[0]):  \n",
    "    x_title_morphed.append(mecab_tokenizer.morphs(x_title[i]))"
   ]
  },
  {
   "cell_type": "code",
   "execution_count": 32,
   "metadata": {},
   "outputs": [
    {
     "data": {
      "text/plain": [
       "(118745,)"
      ]
     },
     "execution_count": 32,
     "metadata": {},
     "output_type": "execute_result"
    }
   ],
   "source": [
    "x_title_morphed = np.asarray(x_title_morphed)\n",
    "x_title_morphed.shape"
   ]
  },
  {
   "cell_type": "code",
   "execution_count": 33,
   "metadata": {},
   "outputs": [
    {
     "data": {
      "text/plain": [
       "['롯데', '·', '공영', '등', '7', '개', 'TV', '홈', '쇼핑', '들', ',', '동행', '세일', '동참']"
      ]
     },
     "execution_count": 33,
     "metadata": {},
     "output_type": "execute_result"
    }
   ],
   "source": [
    "# printing out to check \n",
    "x_title_morphed[10]"
   ]
  },
  {
   "cell_type": "code",
   "execution_count": 34,
   "metadata": {},
   "outputs": [],
   "source": [
    "x_content_morphed = [] \n",
    "for i in range(x_content.shape[0]):  \n",
    "    x_content_morphed.append(mecab_tokenizer.morphs(x_content[i]))"
   ]
  },
  {
   "cell_type": "code",
   "execution_count": 35,
   "metadata": {},
   "outputs": [
    {
     "data": {
      "text/plain": [
       "(118745,)"
      ]
     },
     "execution_count": 35,
     "metadata": {},
     "output_type": "execute_result"
    }
   ],
   "source": [
    "x_content_morphed = np.asarray(x_content_morphed)\n",
    "x_content_morphed.shape"
   ]
  },
  {
   "cell_type": "code",
   "execution_count": 36,
   "metadata": {},
   "outputs": [
    {
     "data": {
      "text/plain": [
       "['첫',\n",
       " '방송',\n",
       " '으로',\n",
       " '6',\n",
       " '월',\n",
       " '26',\n",
       " '일',\n",
       " '부터',\n",
       " '공영',\n",
       " '홈',\n",
       " '쇼핑',\n",
       " '은',\n",
       " '마스크',\n",
       " ',',\n",
       " '식기',\n",
       " '세트',\n",
       " '등',\n",
       " '생활',\n",
       " '용품',\n",
       " '과',\n",
       " '신선',\n",
       " '식품',\n",
       " '등',\n",
       " '의',\n",
       " '17',\n",
       " '개',\n",
       " '제품',\n",
       " '을',\n",
       " '최대',\n",
       " '50',\n",
       " '%',\n",
       " '할인',\n",
       " '된',\n",
       " '가격',\n",
       " '으로',\n",
       " '판매',\n",
       " '하',\n",
       " '고',\n",
       " '이어서',\n",
       " '6',\n",
       " '개',\n",
       " '민간',\n",
       " '홈',\n",
       " '쇼핑',\n",
       " '사',\n",
       " '들',\n",
       " '도',\n",
       " '동행',\n",
       " '세일',\n",
       " '판매',\n",
       " '방송',\n",
       " '에',\n",
       " '동참',\n",
       " '할',\n",
       " '계획',\n",
       " '이',\n",
       " '다']"
      ]
     },
     "execution_count": 36,
     "metadata": {},
     "output_type": "execute_result"
    }
   ],
   "source": [
    "x_content_morphed[10]"
   ]
  },
  {
   "cell_type": "markdown",
   "metadata": {},
   "source": [
    "we will now tokenize data and save them for training "
   ]
  },
  {
   "cell_type": "code",
   "execution_count": 37,
   "metadata": {},
   "outputs": [],
   "source": [
    "tokenizer_title = Tokenizer() \n",
    "tokenizer_title.fit_on_texts(x_title_morphed)"
   ]
  },
  {
   "cell_type": "code",
   "execution_count": 38,
   "metadata": {},
   "outputs": [],
   "source": [
    "train_title_sequences = tokenizer_title.texts_to_sequences(x_title_morphed)"
   ]
  },
  {
   "cell_type": "code",
   "execution_count": 42,
   "metadata": {},
   "outputs": [
    {
     "name": "stdout",
     "output_type": "stream",
     "text": [
      "23\n"
     ]
    }
   ],
   "source": [
    "num_title_tokens = [len(tokens) for tokens in train_title_sequences] \n",
    "num_title_tokens = np.asarray(num_title_tokens) \n",
    "max_title_tokens = np.mean(num_title_tokens) + 2*np.std(num_title_tokens) \n",
    "max_title_tokens = int(max_title_tokens)\n",
    "print(max_title_tokens)"
   ]
  },
  {
   "cell_type": "code",
   "execution_count": 54,
   "metadata": {},
   "outputs": [],
   "source": [
    "train_title_padded = pad_sequences(train_title_sequences, padding = 'post', maxlen = max_title_tokens)"
   ]
  },
  {
   "cell_type": "code",
   "execution_count": 57,
   "metadata": {},
   "outputs": [],
   "source": [
    "np.save('train_title_padded_x.npy',train_title_padded)"
   ]
  },
  {
   "cell_type": "markdown",
   "metadata": {},
   "source": [
    "we do the same for the content"
   ]
  },
  {
   "cell_type": "code",
   "execution_count": 58,
   "metadata": {},
   "outputs": [],
   "source": [
    "tokenizer_content = Tokenizer() \n",
    "tokenizer_content.fit_on_texts(x_content_morphed)"
   ]
  },
  {
   "cell_type": "code",
   "execution_count": 59,
   "metadata": {},
   "outputs": [],
   "source": [
    "train_content_sequences = tokenizer_content.texts_to_sequences(x_content_morphed)"
   ]
  },
  {
   "cell_type": "code",
   "execution_count": 65,
   "metadata": {},
   "outputs": [
    {
     "name": "stdout",
     "output_type": "stream",
     "text": [
      "61\n"
     ]
    }
   ],
   "source": [
    "num_content_tokens = [len(tokens) for tokens in train_content_sequences]\n",
    "num_content_tokens = np.asarray(num_content_tokens) \n",
    "max_content_tokens = np.mean(num_content_tokens) + 2*np.std(num_content_tokens) \n",
    "max_content_tokens = int(max_content_tokens) \n",
    "print(max_content_tokens)"
   ]
  },
  {
   "cell_type": "code",
   "execution_count": 66,
   "metadata": {},
   "outputs": [],
   "source": [
    "train_content_padded = pad_sequences(train_content_sequences, padding = 'post', maxlen = max_content_tokens)"
   ]
  },
  {
   "cell_type": "code",
   "execution_count": 68,
   "metadata": {},
   "outputs": [],
   "source": [
    "np.save('train_content_padded_x.npy',train_content_padded)"
   ]
  },
  {
   "cell_type": "code",
   "execution_count": 70,
   "metadata": {},
   "outputs": [
    {
     "data": {
      "text/plain": [
       "(118745,)"
      ]
     },
     "execution_count": 70,
     "metadata": {},
     "output_type": "execute_result"
    }
   ],
   "source": [
    "y_train = train['info']\n",
    "y_train = np.asarray(y_train)\n",
    "y_train.shape"
   ]
  },
  {
   "cell_type": "code",
   "execution_count": 71,
   "metadata": {},
   "outputs": [
    {
     "data": {
      "text/plain": [
       "array([0, 1, 1, ..., 1, 1, 1])"
      ]
     },
     "execution_count": 71,
     "metadata": {},
     "output_type": "execute_result"
    }
   ],
   "source": [
    "y_train"
   ]
  },
  {
   "cell_type": "code",
   "execution_count": 72,
   "metadata": {},
   "outputs": [],
   "source": [
    "np.save('y_train.npy',y_train)"
   ]
  },
  {
   "cell_type": "markdown",
   "metadata": {},
   "source": [
    "We also process the test data "
   ]
  },
  {
   "cell_type": "code",
   "execution_count": 73,
   "metadata": {},
   "outputs": [],
   "source": [
    "x_title_test = test['title'] \n",
    "x_title_test = np.asarray(x_title_test)"
   ]
  },
  {
   "cell_type": "code",
   "execution_count": 74,
   "metadata": {},
   "outputs": [],
   "source": [
    "x_content_test = test['content'] \n",
    "x_content_test = np.asarray(x_content_test) "
   ]
  },
  {
   "cell_type": "code",
   "execution_count": 75,
   "metadata": {},
   "outputs": [
    {
     "data": {
      "text/plain": [
       "((142565,), (142565,))"
      ]
     },
     "execution_count": 75,
     "metadata": {},
     "output_type": "execute_result"
    }
   ],
   "source": [
    "x_title_test.shape, x_content_test.shape"
   ]
  },
  {
   "cell_type": "code",
   "execution_count": 76,
   "metadata": {},
   "outputs": [
    {
     "data": {
      "text/plain": [
       "'[주목!e스몰캡]코세스, 마이크로LED 시장 개화 최대수혜 기대'"
      ]
     },
     "execution_count": 76,
     "metadata": {},
     "output_type": "execute_result"
    }
   ],
   "source": [
    "x_title_test[0]"
   ]
  },
  {
   "cell_type": "code",
   "execution_count": 77,
   "metadata": {},
   "outputs": [
    {
     "data": {
      "text/plain": [
       "\"마이크로 LED TV 장비 양산 돌입- 전방업체 투자 확대로 본업도 호조연일 '신고가'\""
      ]
     },
     "execution_count": 77,
     "metadata": {},
     "output_type": "execute_result"
    }
   ],
   "source": [
    "x_content_test[0]"
   ]
  },
  {
   "cell_type": "code",
   "execution_count": 78,
   "metadata": {},
   "outputs": [],
   "source": [
    "x_title_test_morphed = [] \n",
    "for i in range(x_title_test.shape[0]):  \n",
    "    x_title_test_morphed.append(mecab_tokenizer.morphs(x_title_test[i]))"
   ]
  },
  {
   "cell_type": "code",
   "execution_count": 79,
   "metadata": {},
   "outputs": [
    {
     "data": {
      "text/plain": [
       "(142565,)"
      ]
     },
     "execution_count": 79,
     "metadata": {},
     "output_type": "execute_result"
    }
   ],
   "source": [
    "x_title_test_morphed = np.asarray(x_title_test_morphed) \n",
    "x_title_test_morphed.shape"
   ]
  },
  {
   "cell_type": "code",
   "execution_count": 91,
   "metadata": {},
   "outputs": [],
   "source": [
    "test_title_sequences = tokenizer_title.texts_to_sequences(x_title_test_morphed)"
   ]
  },
  {
   "cell_type": "code",
   "execution_count": 92,
   "metadata": {},
   "outputs": [],
   "source": [
    "test_title_padded = pad_sequences(test_title_sequences, padding = 'post', maxlen = max_title_tokens)   "
   ]
  },
  {
   "cell_type": "code",
   "execution_count": 93,
   "metadata": {},
   "outputs": [],
   "source": [
    "np.save('test_title_padded.npy',test_title_padded) "
   ]
  },
  {
   "cell_type": "code",
   "execution_count": 88,
   "metadata": {},
   "outputs": [],
   "source": [
    "x_content_test_morphed = [] \n",
    "for i in range(x_content_test.shape[0]):  \n",
    "    x_content_test_morphed.append(mecab_tokenizer.morphs(x_content_test[i]))"
   ]
  },
  {
   "cell_type": "code",
   "execution_count": 89,
   "metadata": {},
   "outputs": [
    {
     "data": {
      "text/plain": [
       "(142565,)"
      ]
     },
     "execution_count": 89,
     "metadata": {},
     "output_type": "execute_result"
    }
   ],
   "source": [
    "x_content_test_morphed = np.asarray(x_content_test_morphed)\n",
    "x_content_test_morphed.shape"
   ]
  },
  {
   "cell_type": "code",
   "execution_count": 95,
   "metadata": {},
   "outputs": [],
   "source": [
    "test_content_sequences = tokenizer_content.texts_to_sequences(x_content_test_morphed)"
   ]
  },
  {
   "cell_type": "code",
   "execution_count": 96,
   "metadata": {},
   "outputs": [],
   "source": [
    "test_content_padded = pad_sequences(test_content_sequences, padding = 'post', maxlen = max_content_tokens)"
   ]
  },
  {
   "cell_type": "code",
   "execution_count": 102,
   "metadata": {},
   "outputs": [],
   "source": [
    "np.save('test_content_padded.npy',test_content_padded) "
   ]
  },
  {
   "cell_type": "markdown",
   "metadata": {},
   "source": [
    "To find the vocab size we are using, we can use the code below"
   ]
  },
  {
   "cell_type": "code",
   "execution_count": 84,
   "metadata": {},
   "outputs": [
    {
     "data": {
      "text/plain": [
       "9197"
      ]
     },
     "execution_count": 84,
     "metadata": {},
     "output_type": "execute_result"
    }
   ],
   "source": [
    "num_title = len(tokenizer_title.word_index)+1 \n",
    "num_title"
   ]
  },
  {
   "cell_type": "code",
   "execution_count": 85,
   "metadata": {},
   "outputs": [
    {
     "data": {
      "text/plain": [
       "41573"
      ]
     },
     "execution_count": 85,
     "metadata": {},
     "output_type": "execute_result"
    }
   ],
   "source": [
    "num_content = len(tokenizer_content.word_index)+1 \n",
    "num_content"
   ]
  },
  {
   "cell_type": "code",
   "execution_count": null,
   "metadata": {},
   "outputs": [],
   "source": []
  }
 ],
 "metadata": {
  "kernelspec": {
   "display_name": "Python 3",
   "language": "python",
   "name": "python3"
  },
  "language_info": {
   "codemirror_mode": {
    "name": "ipython",
    "version": 3
   },
   "file_extension": ".py",
   "mimetype": "text/x-python",
   "name": "python",
   "nbconvert_exporter": "python",
   "pygments_lexer": "ipython3",
   "version": "3.8.5"
  }
 },
 "nbformat": 4,
 "nbformat_minor": 4
}
