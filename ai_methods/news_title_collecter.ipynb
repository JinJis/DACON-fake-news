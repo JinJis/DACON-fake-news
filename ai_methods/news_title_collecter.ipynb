{
  "nbformat": 4,
  "nbformat_minor": 0,
  "metadata": {
    "colab": {
      "name": "news_title_collecter.ipynb",
      "provenance": [],
      "collapsed_sections": []
    },
    "kernelspec": {
      "name": "python3",
      "display_name": "Python 3"
    }
  },
  "cells": [
    {
      "cell_type": "code",
      "metadata": {
        "colab": {
          "base_uri": "https://localhost:8080/"
        },
        "id": "PqPJ9eP3iijo",
        "outputId": "e5674ffe-7a0a-48b6-f7b9-1b894ac5a79d"
      },
      "source": [
        "#import drive\n",
        "from google.colab import drive\n",
        "drive.mount(\"/content/drive/\", force_remount=True)"
      ],
      "execution_count": 1,
      "outputs": [
        {
          "output_type": "stream",
          "text": [
            "Mounted at /content/drive/\n"
          ],
          "name": "stdout"
        }
      ]
    },
    {
      "cell_type": "code",
      "metadata": {
        "colab": {
          "base_uri": "https://localhost:8080/",
          "height": 204
        },
        "id": "tHl-vwGfkucG",
        "outputId": "055873fd-02ed-4992-ddff-2b3931ad2ec0"
      },
      "source": [
        "#read news titles\n",
        "import pandas as pd\n",
        "title_df=pd.read_csv(\"/content/drive/My Drive/news_train.csv\", usecols = ['title'])\n",
        "title_df.head()"
      ],
      "execution_count": 14,
      "outputs": [
        {
          "output_type": "execute_result",
          "data": {
            "text/html": [
              "<div>\n",
              "<style scoped>\n",
              "    .dataframe tbody tr th:only-of-type {\n",
              "        vertical-align: middle;\n",
              "    }\n",
              "\n",
              "    .dataframe tbody tr th {\n",
              "        vertical-align: top;\n",
              "    }\n",
              "\n",
              "    .dataframe thead th {\n",
              "        text-align: right;\n",
              "    }\n",
              "</style>\n",
              "<table border=\"1\" class=\"dataframe\">\n",
              "  <thead>\n",
              "    <tr style=\"text-align: right;\">\n",
              "      <th></th>\n",
              "      <th>title</th>\n",
              "    </tr>\n",
              "  </thead>\n",
              "  <tbody>\n",
              "    <tr>\n",
              "      <th>0</th>\n",
              "      <td>[마감]코스닥 기관 678억 순매도</td>\n",
              "    </tr>\n",
              "    <tr>\n",
              "      <th>1</th>\n",
              "      <td>[마감]코스닥 기관 678억 순매도</td>\n",
              "    </tr>\n",
              "    <tr>\n",
              "      <th>2</th>\n",
              "      <td>[마감]코스닥 기관 678억 순매도</td>\n",
              "    </tr>\n",
              "    <tr>\n",
              "      <th>3</th>\n",
              "      <td>[마감]코스닥 기관 678억 순매도</td>\n",
              "    </tr>\n",
              "    <tr>\n",
              "      <th>4</th>\n",
              "      <td>롯데·공영 등 7개 TV 홈쇼핑들, 동행세일 동참</td>\n",
              "    </tr>\n",
              "  </tbody>\n",
              "</table>\n",
              "</div>"
            ],
            "text/plain": [
              "                         title\n",
              "0          [마감]코스닥 기관 678억 순매도\n",
              "1          [마감]코스닥 기관 678억 순매도\n",
              "2          [마감]코스닥 기관 678억 순매도\n",
              "3          [마감]코스닥 기관 678억 순매도\n",
              "4  롯데·공영 등 7개 TV 홈쇼핑들, 동행세일 동참"
            ]
          },
          "metadata": {
            "tags": []
          },
          "execution_count": 14
        }
      ]
    },
    {
      "cell_type": "code",
      "metadata": {
        "colab": {
          "base_uri": "https://localhost:8080/"
        },
        "id": "NBFu9_5KsP57",
        "outputId": "4ac17def-46cb-4c80-8bf2-1a201718c9f3"
      },
      "source": [
        "#dropping duplicates and reindexing\n",
        "title_df = title_df.drop_duplicates()\n",
        "#title_df.reindex\n",
        "title_df = title_df.reset_index(drop=True)\n",
        "print(title_df)"
      ],
      "execution_count": 24,
      "outputs": [
        {
          "output_type": "stream",
          "text": [
            "                                    title\n",
            "0                     [마감]코스닥 기관 678억 순매도\n",
            "1             롯데·공영 등 7개 TV 홈쇼핑들, 동행세일 동참\n",
            "2              13년만에 늦깎이 개발 '양주 회천' 봄볕 드나\n",
            "3      BMW코리아, 온라인 한정판 `M340i 퍼스트 에디션` 출시\n",
            "4              온라인 결제株, 코로나19 사태로 최대 수혜를?\n",
            "...                                   ...\n",
            "3621                 용인시, 화물자동차 전용 주차장 조성\n",
            "3622  곽상도 \"권력 눈치 보지 말라더니…檢수사 어지간히 겁나는 모양\"\n",
            "3623        에몬스가구, 신제품 라인업으로 코로나19 불황 뚫는다\n",
            "3624        北, 여전히 “코로나19 감염 없다…기적 같은 현실”\n",
            "3625             모나리자, 중원 지분 16.88% 양수 결정\n",
            "\n",
            "[3626 rows x 1 columns]\n"
          ],
          "name": "stdout"
        }
      ]
    },
    {
      "cell_type": "code",
      "metadata": {
        "colab": {
          "base_uri": "https://localhost:8080/"
        },
        "id": "rDoOmDWzssa3",
        "outputId": "4012ae02-9c3a-49b8-f948-c5a9f8cf801c"
      },
      "source": [
        "title_df.to_csv"
      ],
      "execution_count": 25,
      "outputs": [
        {
          "output_type": "execute_result",
          "data": {
            "text/plain": [
              "<bound method NDFrame.to_csv of                                     title\n",
              "0                     [마감]코스닥 기관 678억 순매도\n",
              "1             롯데·공영 등 7개 TV 홈쇼핑들, 동행세일 동참\n",
              "2              13년만에 늦깎이 개발 '양주 회천' 봄볕 드나\n",
              "3      BMW코리아, 온라인 한정판 `M340i 퍼스트 에디션` 출시\n",
              "4              온라인 결제株, 코로나19 사태로 최대 수혜를?\n",
              "...                                   ...\n",
              "3621                 용인시, 화물자동차 전용 주차장 조성\n",
              "3622  곽상도 \"권력 눈치 보지 말라더니…檢수사 어지간히 겁나는 모양\"\n",
              "3623        에몬스가구, 신제품 라인업으로 코로나19 불황 뚫는다\n",
              "3624        北, 여전히 “코로나19 감염 없다…기적 같은 현실”\n",
              "3625             모나리자, 중원 지분 16.88% 양수 결정\n",
              "\n",
              "[3626 rows x 1 columns]>"
            ]
          },
          "metadata": {
            "tags": []
          },
          "execution_count": 25
        }
      ]
    },
    {
      "cell_type": "code",
      "metadata": {
        "id": "rjOmDPUlzGUw"
      },
      "source": [
        "#convert to csv and export to drive\n",
        "title_df.to_csv(\"/content/drive/My Drive/title_train.csv\", index = False, header = 'title')"
      ],
      "execution_count": 26,
      "outputs": []
    }
  ]
}