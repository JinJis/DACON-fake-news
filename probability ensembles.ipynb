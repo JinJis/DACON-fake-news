{
 "cells": [
  {
   "cell_type": "code",
   "execution_count": 1,
   "metadata": {},
   "outputs": [],
   "source": [
    "import numpy as np \n",
    "import pandas as pd "
   ]
  },
  {
   "cell_type": "code",
   "execution_count": 2,
   "metadata": {},
   "outputs": [],
   "source": [
    "submission = pd.read_csv('sample_submission.csv')"
   ]
  },
  {
   "cell_type": "code",
   "execution_count": 3,
   "metadata": {},
   "outputs": [],
   "source": [
    "nn1 = np.load('pred_bidirectional_LSTM_nn1.npy')\n",
    "nn2 = np.load('pred_bidirectional_LSTM_nn2.npy')\n",
    "nn3 = np.load('pred_bidirectional_LSTM_nn3.npy')\n",
    "nn4 = np.load('pred_bidirectional_LSTM_nn4.npy')\n",
    "nn5 = np.load('pred_bidirectional_LSTM_nn5.npy')"
   ]
  },
  {
   "cell_type": "code",
   "execution_count": 4,
   "metadata": {},
   "outputs": [],
   "source": [
    "svc = np.load('linear_svc_probs.npy') "
   ]
  },
  {
   "cell_type": "code",
   "execution_count": 5,
   "metadata": {},
   "outputs": [],
   "source": [
    "xgb1 = np.load('xgb_p1.npy')\n",
    "xgb2 = np.load('xgb_p2.npy')\n",
    "xgb3 = np.load('xgb_p3.npy')\n",
    "xgb4 = np.load('xgb_p4.npy') \n",
    "xgb5 = np.load('xgb_p5.npy')"
   ]
  },
  {
   "cell_type": "code",
   "execution_count": 6,
   "metadata": {},
   "outputs": [],
   "source": [
    "lgb1 = np.load('lgb_pred1.npy')\n",
    "lgb2 = np.load('lgb_pred2.npy') \n",
    "lgb3 = np.load('lgb_pred3.npy')\n",
    "lgb4 = np.load('lgb_pred4.npy') \n",
    "lgb5 = np.load('lgb_pred5.npy')"
   ]
  },
  {
   "cell_type": "code",
   "execution_count": 7,
   "metadata": {},
   "outputs": [
    {
     "data": {
      "text/plain": [
       "(142565, 1)"
      ]
     },
     "execution_count": 7,
     "metadata": {},
     "output_type": "execute_result"
    }
   ],
   "source": [
    "nn1.shape"
   ]
  },
  {
   "cell_type": "code",
   "execution_count": 9,
   "metadata": {},
   "outputs": [],
   "source": [
    "svc = svc.reshape((-1,1))"
   ]
  },
  {
   "cell_type": "code",
   "execution_count": 11,
   "metadata": {},
   "outputs": [],
   "source": [
    "xgb1 = xgb1.reshape((-1,1)) \n",
    "xgb2 = xgb2.reshape((-1,1)) \n",
    "xgb3 = xgb3.reshape((-1,1)) \n",
    "xgb4 = xgb4.reshape((-1,1))\n",
    "xgb5 = xgb5.reshape((-1,1))"
   ]
  },
  {
   "cell_type": "code",
   "execution_count": 12,
   "metadata": {},
   "outputs": [],
   "source": [
    "lgb1 = lgb1.reshape((-1,1)) \n",
    "lgb2 = lgb2.reshape((-1,1)) \n",
    "lgb3 = lgb3.reshape((-1,1)) \n",
    "lgb4 = lgb4.reshape((-1,1)) \n",
    "lgb5 = lgb5.reshape((-1,1)) "
   ]
  },
  {
   "cell_type": "code",
   "execution_count": 13,
   "metadata": {},
   "outputs": [],
   "source": [
    "pred_avg = (nn1+nn2+nn3+nn4+nn5+svc+xgb1+xgb2+xgb3+xgb4+xgb5+lgb1+lgb2+lgb3+lgb4+lgb5)/16.0 "
   ]
  },
  {
   "cell_type": "code",
   "execution_count": 14,
   "metadata": {},
   "outputs": [],
   "source": [
    "class_pred = np.where(pred_avg > 0.5, 1, 0).reshape(-1) "
   ]
  },
  {
   "cell_type": "code",
   "execution_count": 17,
   "metadata": {},
   "outputs": [],
   "source": [
    "submission['info'] = class_pred"
   ]
  },
  {
   "cell_type": "code",
   "execution_count": 18,
   "metadata": {},
   "outputs": [
    {
     "data": {
      "text/html": [
       "<div>\n",
       "<style scoped>\n",
       "    .dataframe tbody tr th:only-of-type {\n",
       "        vertical-align: middle;\n",
       "    }\n",
       "\n",
       "    .dataframe tbody tr th {\n",
       "        vertical-align: top;\n",
       "    }\n",
       "\n",
       "    .dataframe thead th {\n",
       "        text-align: right;\n",
       "    }\n",
       "</style>\n",
       "<table border=\"1\" class=\"dataframe\">\n",
       "  <thead>\n",
       "    <tr style=\"text-align: right;\">\n",
       "      <th></th>\n",
       "      <th>id</th>\n",
       "      <th>info</th>\n",
       "    </tr>\n",
       "  </thead>\n",
       "  <tbody>\n",
       "    <tr>\n",
       "      <th>0</th>\n",
       "      <td>NEWS00237_1</td>\n",
       "      <td>0</td>\n",
       "    </tr>\n",
       "    <tr>\n",
       "      <th>1</th>\n",
       "      <td>NEWS00237_2</td>\n",
       "      <td>0</td>\n",
       "    </tr>\n",
       "    <tr>\n",
       "      <th>2</th>\n",
       "      <td>NEWS00237_3</td>\n",
       "      <td>0</td>\n",
       "    </tr>\n",
       "    <tr>\n",
       "      <th>3</th>\n",
       "      <td>NEWS00237_4</td>\n",
       "      <td>0</td>\n",
       "    </tr>\n",
       "    <tr>\n",
       "      <th>4</th>\n",
       "      <td>NEWS00237_5</td>\n",
       "      <td>0</td>\n",
       "    </tr>\n",
       "    <tr>\n",
       "      <th>...</th>\n",
       "      <td>...</td>\n",
       "      <td>...</td>\n",
       "    </tr>\n",
       "    <tr>\n",
       "      <th>142560</th>\n",
       "      <td>NEWS09482_72</td>\n",
       "      <td>1</td>\n",
       "    </tr>\n",
       "    <tr>\n",
       "      <th>142561</th>\n",
       "      <td>NEWS09482_73</td>\n",
       "      <td>1</td>\n",
       "    </tr>\n",
       "    <tr>\n",
       "      <th>142562</th>\n",
       "      <td>NEWS09482_74</td>\n",
       "      <td>1</td>\n",
       "    </tr>\n",
       "    <tr>\n",
       "      <th>142563</th>\n",
       "      <td>NEWS09482_75</td>\n",
       "      <td>1</td>\n",
       "    </tr>\n",
       "    <tr>\n",
       "      <th>142564</th>\n",
       "      <td>NEWS09482_76</td>\n",
       "      <td>1</td>\n",
       "    </tr>\n",
       "  </tbody>\n",
       "</table>\n",
       "<p>142565 rows × 2 columns</p>\n",
       "</div>"
      ],
      "text/plain": [
       "                  id  info\n",
       "0        NEWS00237_1     0\n",
       "1        NEWS00237_2     0\n",
       "2        NEWS00237_3     0\n",
       "3        NEWS00237_4     0\n",
       "4        NEWS00237_5     0\n",
       "...              ...   ...\n",
       "142560  NEWS09482_72     1\n",
       "142561  NEWS09482_73     1\n",
       "142562  NEWS09482_74     1\n",
       "142563  NEWS09482_75     1\n",
       "142564  NEWS09482_76     1\n",
       "\n",
       "[142565 rows x 2 columns]"
      ]
     },
     "execution_count": 18,
     "metadata": {},
     "output_type": "execute_result"
    }
   ],
   "source": [
    "submission"
   ]
  },
  {
   "cell_type": "code",
   "execution_count": 19,
   "metadata": {},
   "outputs": [],
   "source": [
    "# xgb, lgbm, nn, svc ensembles \n",
    "submission.to_csv('quick_ensemble.csv', index=False)"
   ]
  },
  {
   "cell_type": "code",
   "execution_count": null,
   "metadata": {},
   "outputs": [],
   "source": []
  }
 ],
 "metadata": {
  "kernelspec": {
   "display_name": "Python 3",
   "language": "python",
   "name": "python3"
  },
  "language_info": {
   "codemirror_mode": {
    "name": "ipython",
    "version": 3
   },
   "file_extension": ".py",
   "mimetype": "text/x-python",
   "name": "python",
   "nbconvert_exporter": "python",
   "pygments_lexer": "ipython3",
   "version": "3.8.5"
  }
 },
 "nbformat": 4,
 "nbformat_minor": 4
}
